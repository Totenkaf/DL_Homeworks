{
 "cells": [
  {
   "cell_type": "code",
   "execution_count": 1,
   "id": "005f6c32",
   "metadata": {
    "ExecuteTime": {
     "end_time": "2022-09-01T19:26:36.699962Z",
     "start_time": "2022-09-01T19:26:36.696622Z"
    }
   },
   "outputs": [],
   "source": [
    "import numpy as np"
   ]
  },
  {
   "cell_type": "code",
   "execution_count": 7,
   "id": "da50284d",
   "metadata": {
    "ExecuteTime": {
     "end_time": "2022-09-01T19:30:00.289397Z",
     "start_time": "2022-09-01T19:30:00.282889Z"
    }
   },
   "outputs": [],
   "source": [
    "def perceptron(sensor : list, weights: np.array) -> bool:\n",
    "    \"\"\"Return bool depends on threshold b\"\"\"\n",
    "    b = 7\n",
    "    s = 0\n",
    "    for i in range(15):\n",
    "        s += int(sensor[i]) * weights[i]\n",
    "    if s >= b:\n",
    "        return True\n",
    "    else:\n",
    "        return False"
   ]
  },
  {
   "cell_type": "code",
   "execution_count": 8,
   "id": "ca69c243",
   "metadata": {
    "ExecuteTime": {
     "end_time": "2022-09-01T19:30:00.602254Z",
     "start_time": "2022-09-01T19:30:00.592968Z"
    }
   },
   "outputs": [],
   "source": [
    "# Сигнал со слоя сенсоров (S)\n",
    "num_1 = list('001001001001001')\n",
    "num_2 = list('111001111100111')"
   ]
  },
  {
   "cell_type": "code",
   "execution_count": 9,
   "id": "cef4e78f",
   "metadata": {
    "ExecuteTime": {
     "end_time": "2022-09-01T19:30:00.879386Z",
     "start_time": "2022-09-01T19:30:00.866284Z"
    }
   },
   "outputs": [
    {
     "data": {
      "text/plain": [
       "array([1., 1., 1., 1., 1., 1., 1., 1., 1., 1., 1., 1., 1., 1., 1.])"
      ]
     },
     "execution_count": 9,
     "metadata": {},
     "output_type": "execute_result"
    }
   ],
   "source": [
    "# Задание значений весов в 1 для всех связей\n",
    "weights = np.ones(len(num_1))\n",
    "weights"
   ]
  },
  {
   "cell_type": "code",
   "execution_count": 11,
   "id": "8af92e13",
   "metadata": {
    "ExecuteTime": {
     "end_time": "2022-09-01T19:30:23.726133Z",
     "start_time": "2022-09-01T19:30:23.721716Z"
    }
   },
   "outputs": [
    {
     "data": {
      "text/plain": [
       "False"
      ]
     },
     "execution_count": 11,
     "metadata": {},
     "output_type": "execute_result"
    }
   ],
   "source": [
    "perceptron(num_1, weights)"
   ]
  },
  {
   "cell_type": "code",
   "execution_count": 12,
   "id": "2b1699d7",
   "metadata": {
    "ExecuteTime": {
     "end_time": "2022-09-01T19:30:24.202850Z",
     "start_time": "2022-09-01T19:30:24.191487Z"
    }
   },
   "outputs": [
    {
     "data": {
      "text/plain": [
       "True"
      ]
     },
     "execution_count": 12,
     "metadata": {},
     "output_type": "execute_result"
    }
   ],
   "source": [
    "perceptron(num_2, weights)"
   ]
  },
  {
   "cell_type": "code",
   "execution_count": null,
   "id": "7983a47a",
   "metadata": {},
   "outputs": [],
   "source": []
  }
 ],
 "metadata": {
  "kernelspec": {
   "display_name": "Python 3 (ipykernel)",
   "language": "python",
   "name": "python3"
  },
  "language_info": {
   "codemirror_mode": {
    "name": "ipython",
    "version": 3
   },
   "file_extension": ".py",
   "mimetype": "text/x-python",
   "name": "python",
   "nbconvert_exporter": "python",
   "pygments_lexer": "ipython3",
   "version": "3.8.10"
  },
  "latex_envs": {
   "LaTeX_envs_menu_present": true,
   "autoclose": false,
   "autocomplete": true,
   "bibliofile": "biblio.bib",
   "cite_by": "apalike",
   "current_citInitial": 1,
   "eqLabelWithNumbers": true,
   "eqNumInitial": 1,
   "hotkeys": {
    "equation": "Ctrl-E",
    "itemize": "Ctrl-I"
   },
   "labels_anchors": false,
   "latex_user_defs": false,
   "report_style_numbering": false,
   "user_envs_cfg": false
  },
  "nbTranslate": {
   "displayLangs": [
    "*"
   ],
   "hotkey": "alt-t",
   "langInMainMenu": true,
   "sourceLang": "en",
   "targetLang": "fr",
   "useGoogleTranslate": true
  },
  "toc": {
   "base_numbering": 1,
   "nav_menu": {},
   "number_sections": true,
   "sideBar": true,
   "skip_h1_title": false,
   "title_cell": "Table of Contents",
   "title_sidebar": "Contents",
   "toc_cell": false,
   "toc_position": {},
   "toc_section_display": true,
   "toc_window_display": false
  },
  "varInspector": {
   "cols": {
    "lenName": 16,
    "lenType": 16,
    "lenVar": 40
   },
   "kernels_config": {
    "python": {
     "delete_cmd_postfix": "",
     "delete_cmd_prefix": "del ",
     "library": "var_list.py",
     "varRefreshCmd": "print(var_dic_list())"
    },
    "r": {
     "delete_cmd_postfix": ") ",
     "delete_cmd_prefix": "rm(",
     "library": "var_list.r",
     "varRefreshCmd": "cat(var_dic_list()) "
    }
   },
   "types_to_exclude": [
    "module",
    "function",
    "builtin_function_or_method",
    "instance",
    "_Feature"
   ],
   "window_display": false
  }
 },
 "nbformat": 4,
 "nbformat_minor": 5
}
